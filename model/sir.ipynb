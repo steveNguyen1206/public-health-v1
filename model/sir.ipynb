{
 "cells": [
  {
   "cell_type": "code",
   "execution_count": 1,
   "metadata": {},
   "outputs": [],
   "source": [
    "# install Pint if necessary\n",
    "\n",
    "try:\n",
    "    import pint\n",
    "except ImportError:\n",
    "    !pip install pint\n",
    "    !pip install matplotlib"
   ]
  },
  {
   "cell_type": "code",
   "execution_count": 2,
   "metadata": {},
   "outputs": [],
   "source": [
    "from scipy.stats import lognorm, poisson\n",
    "import random"
   ]
  },
  {
   "cell_type": "code",
   "execution_count": 4,
   "metadata": {},
   "outputs": [],
   "source": [
    "# download modsim.py if necessary\n",
    "\n",
    "from os.path import basename, exists\n",
    "\n",
    "def download(url):\n",
    "    filename = basename(url)\n",
    "    if not exists(filename):\n",
    "        from urllib.request import urlretrieve\n",
    "        local, _ = urlretrieve(url, filename)\n",
    "        print('Downloaded ' + local)\n",
    "    \n",
    "download('https://raw.githubusercontent.com/AllenDowney/' +\n",
    "         'ModSimPy/master/modsim.py')"
   ]
  },
  {
   "cell_type": "code",
   "execution_count": 5,
   "metadata": {},
   "outputs": [
    {
     "ename": "ModuleNotFoundError",
     "evalue": "No module named 'matplotlib'",
     "output_type": "error",
     "traceback": [
      "\u001b[1;31m---------------------------------------------------------------------------\u001b[0m",
      "\u001b[1;31mModuleNotFoundError\u001b[0m                       Traceback (most recent call last)",
      "Cell \u001b[1;32mIn[5], line 2\u001b[0m\n\u001b[0;32m      1\u001b[0m \u001b[39m# import functions from modsim\u001b[39;00m\n\u001b[1;32m----> 2\u001b[0m \u001b[39mfrom\u001b[39;00m \u001b[39mmodsim\u001b[39;00m \u001b[39mimport\u001b[39;00m \u001b[39m*\u001b[39m\n",
      "File \u001b[1;32md:\\OneDrive - VNU-HCMUS\\2022-2023\\HK4\\thuc_tap\\SRC\\venv1\\public-health-v1\\model\\modsim.py:21\u001b[0m\n\u001b[0;32m     17\u001b[0m     logger\u001b[39m.\u001b[39mwarning(\u001b[39m\"\u001b[39m\u001b[39mmodsim.py depends on Python 3.6 features.\u001b[39m\u001b[39m\"\u001b[39m)\n\u001b[0;32m     19\u001b[0m \u001b[39mimport\u001b[39;00m \u001b[39minspect\u001b[39;00m\n\u001b[1;32m---> 21\u001b[0m \u001b[39mimport\u001b[39;00m \u001b[39mmatplotlib\u001b[39;00m\u001b[39m.\u001b[39;00m\u001b[39mpyplot\u001b[39;00m \u001b[39mas\u001b[39;00m \u001b[39mplt\u001b[39;00m\n\u001b[0;32m     23\u001b[0m plt\u001b[39m.\u001b[39mrcParams[\u001b[39m'\u001b[39m\u001b[39mfigure.dpi\u001b[39m\u001b[39m'\u001b[39m] \u001b[39m=\u001b[39m \u001b[39m75\u001b[39m\n\u001b[0;32m     24\u001b[0m plt\u001b[39m.\u001b[39mrcParams[\u001b[39m'\u001b[39m\u001b[39msavefig.dpi\u001b[39m\u001b[39m'\u001b[39m] \u001b[39m=\u001b[39m \u001b[39m300\u001b[39m\n",
      "\u001b[1;31mModuleNotFoundError\u001b[0m: No module named 'matplotlib'"
     ]
    }
   ],
   "source": [
    "# import functions from modsim\n",
    "from modsim import *"
   ]
  },
  {
   "cell_type": "code",
   "execution_count": null,
   "metadata": {},
   "outputs": [],
   "source": [
    "# contact_matrix = [[1.2, 1.5, 5.3],\n",
    "#                   [2.0, 3.6, 1.5],\n",
    "#                   [0.2, 2.0 ,1.2]]\n",
    "\n",
    "contact_matrix = [1.2, 1.5, 5.3, 2.0, 3.6, 1.5, 0.2, 2.0 ,1.2]\n",
    "\n",
    "mu = 2.2915     # Mean of the associated normal distribution\n",
    "# sigma = math.sqrt(0.284199) # Standard deviation of the associated normal distribution\n",
    "sigma = 0.1332\n",
    "\n",
    "# Generate random samples from the log-ncormal distribution\n",
    "def sample_tr():\n",
    "    sample = lognorm.rvs(s=sigma, scale=np.exp(mu), size=1)[0]\n",
    "    return sample\n",
    "\n",
    "def sample_tc():\n",
    "    mu = random.choice(contact_matrix)\n",
    "    sample = poisson.rvs(mu=mu, loc=0, size=1, random_state=None)[0]\n",
    "    return sample\n",
    "print(sample_tc())"
   ]
  },
  {
   "cell_type": "code",
   "execution_count": null,
   "metadata": {},
   "outputs": [],
   "source": [
    "# tc là thời gian để một người tạo ra một contact, ở đây một người một ngày tiếp súc 2.3 người nên tc là 1/2.3\n",
    "# tr là thời gian cần để hồi phục\n",
    "# 2.3 là trung bình cộng hệ số lamda của tất cả các cặp nhóm tuổi trong bài báo của anh Lucky\n",
    "tc = 1 / 2.3\n",
    "tr = 12\n",
    "\n",
    "beta = 1/tc\n",
    "gamma = 1/tr\n",
    "\n",
    "# s là số người có nguy cơ bị lây bệnh = dân số - số người bị bệnh\n",
    "# i là số người bị bệnh ban đầu = num seed case\n",
    "# r là số người hồi phục\n",
    "s = 14642\n",
    "i = 10\n",
    "r = 0\n",
    "init = State(s=s, i=i, r=r)\n",
    "init /= init.sum()\n",
    "\n",
    "# t_end là thời gian giả lập\n",
    "t_end = 100\n",
    "system = System(init=init, t_end=t_end, beta=beta, gamma=gamma)"
   ]
  },
  {
   "cell_type": "code",
   "execution_count": null,
   "metadata": {},
   "outputs": [],
   "source": [
    "def update_function(t, state, system):\n",
    "  s, i, r = state.s, state.i, state.r\n",
    "  # infected = system.beta * s * i\n",
    "  # recovered = system.gamma * i\n",
    "  tr = sample_tr()\n",
    "  tc = sample_tc()\n",
    "  gamma = 1 / tr if tr != 0 else 0\n",
    "  beta = tc\n",
    "  infected = beta * s * i\n",
    "  recovered = gamma * i\n",
    "\n",
    "  s -= infected\n",
    "  i += infected - recovered\n",
    "  r += recovered\n",
    "  return State(s=s,i=i,r=r)\n",
    "\n",
    "\n",
    "def run_simulation(system, update_func):\n",
    "  time_frame = TimeFrame(columns=system.init.index)\n",
    "  time_frame.loc[0] = system.init\n",
    "  for i in range(0, system.t_end):\n",
    "    time_frame.loc[i+1] = update_func(i, time_frame.loc[i], system)\n",
    "  return time_frame\n",
    "\n",
    "\n",
    "def plot_results(S, I, R):\n",
    "    S.plot(style='--', label='Susceptible')\n",
    "    I.plot(style='-', label='Infected')\n",
    "    R.plot(style=':', label='Recovered')\n",
    "    decorate(xlabel='Time (days)',\n",
    "             ylabel='Fraction of population')"
   ]
  },
  {
   "cell_type": "code",
   "execution_count": null,
   "metadata": {},
   "outputs": [],
   "source": [
    "results = run_simulation(system, update_function)\n",
    "plot_results(results.s, results.i, results.r)"
   ]
  }
 ],
 "metadata": {
  "kernelspec": {
   "display_name": "Python 3",
   "language": "python",
   "name": "python3"
  },
  "language_info": {
   "codemirror_mode": {
    "name": "ipython",
    "version": 3
   },
   "file_extension": ".py",
   "mimetype": "text/x-python",
   "name": "python",
   "nbconvert_exporter": "python",
   "pygments_lexer": "ipython3",
   "version": "3.10.10"
  },
  "orig_nbformat": 4
 },
 "nbformat": 4,
 "nbformat_minor": 2
}
